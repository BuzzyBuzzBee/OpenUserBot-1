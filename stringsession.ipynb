"source": [
        "!pip install telethon",
        "from telethon.sync import TelegramClient",
        "from telethon.sessions import StringSession",
        "print("Please go-to my.telegram.org \nLogin using your Telegram account \nClick on API Development Tools \nCreate a new application, by entering the required details")",
        "API_KEY = input("API_KEY: ")",
        "API_HASH = input("API_HASH: ")",
        "with TelegramClient(StringSession(), API_KEY, API_HASH) as client:
    print("Here is your userbot srting, copy it to a safe place !!")
    print("")
    print(client.session.save())
    print("")
    print("")
    print("Enjoy your userbot !!")",
      ]









