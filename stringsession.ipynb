{
  "cells": [
    {
      "cell_type": "code",
      "metadata": {},
      "source": [
        "!pip install telethon\n",
        "from telethon.sync import TelegramClient\n",
        "from telethon.sessions import StringSession\n",
        "\n",
        "print(\"\"\"Please go-to my.telegram.org\n",
        "Login using your Telegram account\n",
        "Click on API Development Tools\n",
        "Create a new application, by entering the required details\"\"\")\n",
        "\n",
        "API_KEY = input(\"API_KEY: \")\n",
        "API_HASH = input(\"API_HASH: \")\n",
        "\n",
        "with TelegramClient(StringSession(), API_KEY, API_HASH) as client:\n",
        "    print(\"Here is your userbot srting, copy it to a safe place !!\")\n",
        "    print(\"\")\n",
        "    print(client.session.save())\n",
        "    print(\"\")\n",
        "    print(\"\")\n",
        "    print(\"Enjoy your userbot !!\")\n"
      ],
      "outputs": [],
      "execution_count": null
    }
  ],
  "metadata": {
    "anaconda-cloud": {},
    "kernelspec": {
      "display_name": "Python 3",
      "language": "python",
      "name": "python3"
    },
    "language_info": {
      "codemirror_mode": {
        "name": "ipython",
        "version": 3
      },
      "file_extension": ".py",
      "mimetype": "text/x-python",
      "name": "python",
      "nbconvert_exporter": "python",
      "pygments_lexer": "ipython3",
      "version": "3.6.1"
    }
  },
  "nbformat": 4,
  "nbformat_minor": 1
}
